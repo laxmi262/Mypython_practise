{
 "cells": [
  {
   "cell_type": "code",
   "execution_count": null,
   "metadata": {},
   "outputs": [],
   "source": [
    "# introduction to User Accepted input\n",
    "\n",
    "first_name=input(\"please enter your first name:\")"
   ]
  },
  {
   "cell_type": "code",
   "execution_count": null,
   "metadata": {},
   "outputs": [],
   "source": [
    "name=input(\"Please enter your name:\")\n",
    "print(\"Welcome to Facebook world\"+name)"
   ]
  },
  {
   "cell_type": "code",
   "execution_count": null,
   "metadata": {},
   "outputs": [],
   "source": [
    "#Enhancement\n",
    "name=input(\"Please enter your name:\")\n",
    "print(\"\\n Welcome to Facebook world \" + name.title())"
   ]
  },
  {
   "cell_type": "code",
   "execution_count": null,
   "metadata": {},
   "outputs": [],
   "source": [
    "# Building an Voting Application:\n",
    "voter_name= input(\"Please enter Voter Name :\")\n",
    "voter_Age = int(input(\"Please enter voter Age :\"))\n",
    "if voter_Age > 18:\n",
    "    print(\"He is eligible for casting the vote \"+ voter_name)\n",
    "else:\n",
    "    print(\"He is not eligble for casting the vote \"+voter_name)\n",
    "        \n"
   ]
  },
  {
   "cell_type": "code",
   "execution_count": null,
   "metadata": {},
   "outputs": [],
   "source": [
    "# Introduction to Tuple\n",
    "x=('a','b','c','d')\n",
    "type(x)\n",
    "print(type(x))\n",
    "print(x)\n",
    "x[1]='e'\n",
    "print(x[1])"
   ]
  },
  {
   "cell_type": "code",
   "execution_count": null,
   "metadata": {},
   "outputs": [],
   "source": [
    "#introduction to Dictionary\"\n",
    "\n",
    "user1={\"username\": \"Laxmi\",\"fname\" :\"narsimha\",\"DOB\":'10081987'}\n",
    "print(user1)\n",
    "print(user1['fname'].title())\n",
    "print(user1['fname' ] +' practising Python')"
   ]
  },
  {
   "cell_type": "code",
   "execution_count": 2,
   "metadata": {},
   "outputs": [
    {
     "name": "stdout",
     "output_type": "stream",
     "text": [
      "{'colour': 'red', 'price': '100000', 'model': '2020'}\n",
      "dict_items([('colour', 'red'), ('price', '100000'), ('model', '2020')])\n"
     ]
    }
   ],
   "source": [
    "#Using get() method to access values\n",
    "\n",
    "car_0={'colour':\"red\",'price':'100000',\"model\":'2020'}\n",
    "print(car_0)\n",
    "print(car_0.items())\n",
    "\n",
    "RC_Number=car_0.get('RC_Number','no Valid RC')\n",
    "#print(RC_Number)\n",
    "\n",
    "#print(car_0['RC_Number']) "
   ]
  },
  {
   "cell_type": "code",
   "execution_count": 3,
   "metadata": {},
   "outputs": [
    {
     "name": "stdout",
     "output_type": "stream",
     "text": [
      "\n",
      " key:colour\n",
      "value:red\n",
      "\n",
      " key:price\n",
      "value:100000\n",
      "\n",
      " key:model\n",
      "value:2020\n"
     ]
    }
   ],
   "source": [
    "for key,value in car_0.items():\n",
    "    print(f\"\\n key:{key}\")\n",
    "    print(f\"value:{value}\")"
   ]
  },
  {
   "cell_type": "code",
   "execution_count": 4,
   "metadata": {},
   "outputs": [
    {
     "name": "stdout",
     "output_type": "stream",
     "text": [
      "Colour\n",
      "Red\n",
      "Price\n",
      "100000\n",
      "Model\n",
      "2020\n"
     ]
    }
   ],
   "source": [
    "for key,value in car_0.items():\n",
    "    print(f'{key.title()}'),\n",
    "    print(f'{value.title()}')\n",
    "    "
   ]
  },
  {
   "cell_type": "code",
   "execution_count": null,
   "metadata": {},
   "outputs": [],
   "source": []
  },
  {
   "cell_type": "code",
   "execution_count": null,
   "metadata": {},
   "outputs": [],
   "source": []
  }
 ],
 "metadata": {
  "kernelspec": {
   "display_name": "Python 3",
   "language": "python",
   "name": "python3"
  },
  "language_info": {
   "codemirror_mode": {
    "name": "ipython",
    "version": 3
   },
   "file_extension": ".py",
   "mimetype": "text/x-python",
   "name": "python",
   "nbconvert_exporter": "python",
   "pygments_lexer": "ipython3",
   "version": "3.7.3"
  }
 },
 "nbformat": 4,
 "nbformat_minor": 4
}
